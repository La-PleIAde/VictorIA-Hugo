{
 "cells": [
  {
   "cell_type": "code",
   "execution_count": null,
   "metadata": {},
   "outputs": [],
   "source": [
    "import os\n",
    "import re\n",
    "\n",
    "def remove_duplicates(folder):\n",
    "    if not os.path.isdir(folder):\n",
    "        print(\"The folder does not exist.\")\n",
    "        return\n",
    "\n",
    "    files = {}\n",
    "\n",
    "    # walk through the folder\n",
    "    for foldername, subfolders, filenames in os.walk(folder):\n",
    "        for filename in filenames:\n",
    "        \n",
    "            path = os.path.join(foldername, filename)\n",
    "            # get the normalized name of the file\n",
    "            name = re.sub(r'^\\d+', '', re.sub(r'[^A-Za-z0-9]', '', filename.lower()))\n",
    "          \n",
    "            # if the name is already in the dictionary\n",
    "            if name in files:\n",
    "                \n",
    "                existing_path = files[name]\n",
    "                # read the content of the existing file\n",
    "                with open(existing_path, 'rb') as f:\n",
    "                    existing_content = f.read()\n",
    "                # read the content of the duplicate file\n",
    "                with open(path, 'rb') as f:\n",
    "                    content = f.read()\n",
    "                # if the contents are the same\n",
    "                if existing_content == content:\n",
    "                    # remove the duplicate file\n",
    "                    os.remove(path)\n",
    "                    print('Removed:', path)\n",
    "                # if folder is empty\n",
    "                if not os.listdir(foldername):\n",
    "                    os.rmdir(foldername)\n",
    "                    print('Removed:', foldername)\n",
    "\n",
    "            else:\n",
    "                # add the file to the dictionary\n",
    "                files[name] = path\n",
    "\n",
    "remove_duplicates('c:/Users/Binesh/Desktop/project_victor-hugo/VictorIA-Hugo')\n"
   ]
  }
 ],
 "metadata": {
  "kernelspec": {
   "display_name": ".venv",
   "language": "python",
   "name": "python3"
  },
  "language_info": {
   "codemirror_mode": {
    "name": "ipython",
    "version": 3
   },
   "file_extension": ".py",
   "mimetype": "text/x-python",
   "name": "python",
   "nbconvert_exporter": "python",
   "pygments_lexer": "ipython3",
   "version": "3.12.9"
  }
 },
 "nbformat": 4,
 "nbformat_minor": 2
}

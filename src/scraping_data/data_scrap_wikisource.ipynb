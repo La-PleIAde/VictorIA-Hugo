{
 "cells": [
  {
   "cell_type": "code",
   "execution_count": 1,
   "metadata": {},
   "outputs": [
    {
     "name": "stdout",
     "output_type": "stream",
     "text": [
      "\n",
      "Scraping works of ...\n",
      "Error fetching author page : 404 Client Error: Not Found for url: https://fr.wikisource.org/wiki/Auteur:\n"
     ]
    }
   ],
   "source": [
    "import os\n",
    "import requests\n",
    "from bs4 import BeautifulSoup\n",
    "import time\n",
    "import random\n",
    "\n",
    "\n",
    "\"\"\" \n",
    "This script scrapes French-language works from Wikisource for a given author.\n",
    "It filters out works that are likely to be poems, as they are not suitable for this specific project.\n",
    "\"\"\"\n",
    "def sanitize_filename(title):\n",
    "    return \"_\".join(title.split()).replace(\"/\", \"_\").replace(\"\\\\\", \"_\")\n",
    "\n",
    "def download_french_works_from_wikisource(author_name, folder_path):\n",
    "    base_url = \"https://fr.wikisource.org\"\n",
    "    author_url = f\"{base_url}/wiki/Auteur:{author_name.replace(' ', '_')}\"\n",
    "    \n",
    "    try:\n",
    "        response = requests.get(author_url)\n",
    "        response.raise_for_status()\n",
    "    except requests.RequestException as e:\n",
    "        print(f\"Error fetching author page {author_name}: {e}\")\n",
    "        return\n",
    "    \n",
    "    soup = BeautifulSoup(response.text, 'html.parser')\n",
    "    author_folder = os.path.join(folder_path, sanitize_filename(author_name))\n",
    "    os.makedirs(author_folder, exist_ok=True)\n",
    "    \n",
    "    work_links = []\n",
    "    for link in soup.select(\"div.mw-parser-output ul li a\"):  # Adjusted for actual structure\n",
    "        title = link.text.strip()\n",
    "        href = link['href']\n",
    "        if \"poésies\" not in title.lower() and \"poème\" not in title.lower():\n",
    "            work_links.append((title, base_url + href))\n",
    "    \n",
    "    for title, work_url in work_links:\n",
    "        try:\n",
    "            work_response = requests.get(work_url)\n",
    "            work_response.raise_for_status()\n",
    "        except requests.RequestException as e:\n",
    "            print(f\"Error fetching work {title}: {e}\")\n",
    "            continue\n",
    "        \n",
    "        work_soup = BeautifulSoup(work_response.text, 'html.parser')\n",
    "        text_container = work_soup.find(\"div\", class_=\"mw-parser-output\")\n",
    "        if not text_container:\n",
    "            print(f\"No valid text content found for {title}\")\n",
    "            continue\n",
    "        \n",
    "        text_content = \"\\n\".join([p.get_text() for p in text_container.find_all(\"p\") if p.get_text().strip()])\n",
    "        if not text_content.strip():\n",
    "            print(f\"Skipping empty content for {title}\")\n",
    "            continue\n",
    "        \n",
    "        file_path = os.path.join(author_folder, f\"{sanitize_filename(title)}.txt\")\n",
    "        \n",
    "        try:\n",
    "            with open(file_path, \"w\", encoding=\"utf-8\") as f:\n",
    "                f.write(text_content)\n",
    "            print(f\"Saved: {file_path}\")\n",
    "        except IOError as e:\n",
    "            print(f\"Error saving file {file_path}: {e}\")\n",
    "        \n",
    "        time.sleep(random.uniform(1, 3))\n",
    "\n",
    "def scrape_wikisource_authors(authors, folder_path):\n",
    "    for author in authors:\n",
    "        print(f\"\\nScraping works of {author}...\")\n",
    "        download_french_works_from_wikisource(author, folder_path)\n",
    "\n",
    "authors = [''] # Add authors here\n",
    "folder_path = \"\" # Add folder path here\n",
    "scrape_wikisource_authors(authors, folder_path)"
   ]
  }
 ],
 "metadata": {
  "kernelspec": {
   "display_name": ".venv",
   "language": "python",
   "name": "python3"
  },
  "language_info": {
   "codemirror_mode": {
    "name": "ipython",
    "version": 3
   },
   "file_extension": ".py",
   "mimetype": "text/x-python",
   "name": "python",
   "nbconvert_exporter": "python",
   "pygments_lexer": "ipython3",
   "version": "3.12.9"
  }
 },
 "nbformat": 4,
 "nbformat_minor": 2
}
